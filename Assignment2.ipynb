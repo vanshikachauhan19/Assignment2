{
 "cells": [
  {
   "cell_type": "code",
   "execution_count": 1,
   "id": "49fb5410-2b7e-4f5a-9de2-5d028d29b7b5",
   "metadata": {},
   "outputs": [
    {
     "name": "stdout",
     "output_type": "stream",
     "text": [
      "Hello Sakshi!\n",
      "Hi Sakshi Chauhan!\n"
     ]
    }
   ],
   "source": [
    "def greet(name: str, greeting: str = \"Hello\") -> str:\n",
    "    return f\"{greeting} {name}!\"\n",
    "\n",
    "print(greet(\"Vanshika\"))  \n",
    "print(greet(\"Vanshika Chauhan\", \"Hi\"))  \n"
   ]
  },
  {
   "cell_type": "code",
   "execution_count": 2,
   "id": "1dbd7a87-8695-4c96-af6e-20f24ff9fa34",
   "metadata": {},
   "outputs": [
    {
     "name": "stdout",
     "output_type": "stream",
     "text": [
      "Name: Alice, Age: 18, City: New York\n",
      "Name: Bob, Age: 30, City: Los Angeles\n"
     ]
    }
   ],
   "source": [
    "def create_profile(name, city, age=18):\n",
    "     return f\"Name: {name}, Age: {age}, City: {city}\"\n",
    "print(create_profile(\"Alice\", \"New York\"))  \n",
    "print(create_profile(\"Bob\", \"Los Angeles\", 30))  "
   ]
  },
  {
   "cell_type": "code",
   "execution_count": 3,
   "id": "1710b8e5-4f93-447a-b812-a09b750a6329",
   "metadata": {},
   "outputs": [
    {
     "name": "stdout",
     "output_type": "stream",
     "text": [
      "(6, {'a': 4, 'b': 5, 'c': 6})\n",
      "(9, {'Sakshi': 'Chauhan'})\n"
     ]
    }
   ],
   "source": [
    "def sum_numbers(*args, **kwargs):\n",
    "    num_sum = sum(arg for arg in args if isinstance(arg, (int, float)))\n",
    "    return num_sum, kwargs\n",
    "result = sum_numbers(1, 2, 3, a=4, b=5, c=6)\n",
    "print(result) \n",
    "\n",
    "result = sum_numbers('hello', 4, 5, Vanshika='Chauhan')\n",
    "print(result)  "
   ]
  },
  {
   "cell_type": "code",
   "execution_count": 5,
   "id": "0cb436c1-c429-4a5c-ba57-ea4b268c9a7b",
   "metadata": {},
   "outputs": [
    {
     "name": "stdout",
     "output_type": "stream",
     "text": [
      "[1, 4, 9, 16, 25]\n"
     ]
    }
   ],
   "source": [
    "def square_elements(numbers):\n",
    "    return list(map(lambda x: x**2, numbers))\n",
    "numbers = [1, 2, 3, 4, 5]\n",
    "result = square_elements(numbers)\n",
    "print(result)  "
   ]
  },
  {
   "cell_type": "code",
   "execution_count": 6,
   "id": "08aaad4e-b20a-4f2f-8a64-47fa6f400a6b",
   "metadata": {},
   "outputs": [
    {
     "name": "stdout",
     "output_type": "stream",
     "text": [
      "[2, 4, 6]\n"
     ]
    }
   ],
   "source": [
    "def filter_even_numbers(numbers):\n",
    "    return list(filter(lambda x: x % 2 == 0, numbers))\n",
    "numbers = [1, 2, 3, 4, 5, 6]\n",
    "even_numbers = filter_even_numbers(numbers)\n",
    "print(even_numbers) "
   ]
  },
  {
   "cell_type": "code",
   "execution_count": 7,
   "id": "99cf06cb-abcb-4add-8796-255f1e9b1182",
   "metadata": {},
   "outputs": [
    {
     "name": "stdout",
     "output_type": "stream",
     "text": [
      "[1, 4, 9, 16, 25]\n"
     ]
    }
   ],
   "source": [
    "numbers = [1, 2, 3, 4, 5]\n",
    "squares = [n**2 for n in numbers]\n",
    "print(squares)  "
   ]
  },
  {
   "cell_type": "code",
   "execution_count": 8,
   "id": "30398981-33bb-40bd-ad43-398dfcdcc141",
   "metadata": {},
   "outputs": [
    {
     "name": "stdout",
     "output_type": "stream",
     "text": [
      "The list of even numbers from 1 to 20 is:\n",
      "[2, 4, 6, 8, 10, 12, 14, 16, 18, 20]\n"
     ]
    },
    {
     "data": {
      "text/plain": [
       "'The list of even numbers from 1 to 20 is:\\n[2, 4, 6, 8, 10, 12, 14, 16, 18, 20]'"
      ]
     },
     "execution_count": 8,
     "metadata": {},
     "output_type": "execute_result"
    }
   ],
   "source": [
    "even_numbers = [i for i in range(1, 21) if i % 2 == 0]\n",
    "print(\"The list of even numbers from 1 to 20 is:\")\n",
    "print(even_numbers)\n",
    "\"\"\"The list of even numbers from 1 to 20 is:\n",
    "[2, 4, 6, 8, 10, 12, 14, 16, 18, 20]\"\"\""
   ]
  },
  {
   "cell_type": "code",
   "execution_count": 9,
   "id": "616da7de-4657-45b0-aaf5-29a031b2e81a",
   "metadata": {},
   "outputs": [],
   "source": [
    "import os\n",
    "import time\n",
    "\n",
    "def file_operations():\n",
    "    try:\n",
    "        # Create a directory named \"test_folder\"\n",
    "        os.makedirs(\"test_folder\")\n",
    "    except OSError as e:\n",
    "        print(f\"Error creating directory: {e}\")\n",
    "    \n",
    "    # Pause the execution for 3 seconds\n",
    "    time.sleep(3)\n",
    "    \n",
    "    try:\n",
    "        # Delete the directory\n",
    "        os.rmdir(\"test_folder\")\n",
    "    except OSError as e:\n",
    "        print(f\"Error deleting directory: {e}\")\n",
    "\n",
    "# Call the function\n",
    "file_operations()"
   ]
  },
  {
   "cell_type": "code",
   "execution_count": 10,
   "id": "59d74d25-24c6-41bf-850c-243c6de61b45",
   "metadata": {},
   "outputs": [
    {
     "name": "stdout",
     "output_type": "stream",
     "text": [
      "Starting execution...\n",
      "Execution resumed.\n"
     ]
    }
   ],
   "source": [
    "from time import sleep as pause\n",
    "\n",
    "print(\"Starting execution...\")\n",
    "pause(2)\n",
    "print(\"Execution resumed.\")"
   ]
  },
  {
   "cell_type": "code",
   "execution_count": 11,
   "id": "7b8dc7cf-6a86-487f-b679-d24ca7d1d767",
   "metadata": {},
   "outputs": [],
   "source": [
    "def flatten_list(*args, **kwargs):\n",
    "    flat_list = []\n",
    "    for arg in args:\n",
    "        if isinstance(arg, list):\n",
    "            flat_list.extend(flatten_list(*arg))\n",
    "        else:\n",
    "            flat_list.append(arg)\n",
    "    return flat_list\n",
    "    "
   ]
  },
  {
   "cell_type": "code",
   "execution_count": null,
   "id": "8d1ea451-b447-429e-8cc6-fb9ebc424ca2",
   "metadata": {},
   "outputs": [],
   "source": []
  }
 ],
 "metadata": {
  "kernelspec": {
   "display_name": "Python 3 (ipykernel)",
   "language": "python",
   "name": "python3"
  },
  "language_info": {
   "codemirror_mode": {
    "name": "ipython",
    "version": 3
   },
   "file_extension": ".py",
   "mimetype": "text/x-python",
   "name": "python",
   "nbconvert_exporter": "python",
   "pygments_lexer": "ipython3",
   "version": "3.12.5"
  }
 },
 "nbformat": 4,
 "nbformat_minor": 5
}
